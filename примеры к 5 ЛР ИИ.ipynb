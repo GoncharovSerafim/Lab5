{
 "cells": [
  {
   "cell_type": "code",
   "execution_count": 1,
   "id": "36d72c34-d9d6-4ec5-aa43-42aa043c5d0b",
   "metadata": {},
   "outputs": [
    {
     "name": "stdout",
     "output_type": "stream",
     "text": [
      "a    10\n",
      "b    20\n",
      "c    30\n",
      "d    40\n",
      "dtype: int64\n"
     ]
    }
   ],
   "source": [
    "import pandas as pd\n",
    "s = pd.Series([10, 20, 30, 40], index=[\"a\", \"b\", \"c\", \"d\"])\n",
    "print(s)"
   ]
  },
  {
   "cell_type": "code",
   "execution_count": 3,
   "id": "38bc7510-6659-43c3-a3a3-cc343a9c4130",
   "metadata": {},
   "outputs": [
    {
     "name": "stdout",
     "output_type": "stream",
     "text": [
      "       Возраст   Город\n",
      "Анна        25  Москва\n",
      "Иван        30     СПб\n",
      "Ольга       22  Казань\n"
     ]
    }
   ],
   "source": [
    "data = {\n",
    "\"Возраст\": [25, 30, 22],\n",
    "\"Город\": [\"Москва\", \"СПб\", \"Казань\"]\n",
    "}\n",
    "df = pd.DataFrame(data, index=[\"Анна\", \"Иван\", \"Ольга\"])\n",
    "print(df)"
   ]
  },
  {
   "cell_type": "code",
   "execution_count": 5,
   "id": "ca883e89-e056-446b-acb9-944d8df230a3",
   "metadata": {},
   "outputs": [
    {
     "name": "stdout",
     "output_type": "stream",
     "text": [
      "Анна     25\n",
      "Иван     30\n",
      "Ольга    22\n",
      "Name: Возраст, dtype: int64\n"
     ]
    }
   ],
   "source": [
    "print(df[\"Возраст\"])"
   ]
  },
  {
   "cell_type": "code",
   "execution_count": 7,
   "id": "e502be7d-53e3-43a2-8c5c-0339fc8f0852",
   "metadata": {},
   "outputs": [
    {
     "name": "stdout",
     "output_type": "stream",
     "text": [
      "   Значение\n",
      "a        10\n",
      "b        20\n",
      "c        30\n"
     ]
    }
   ],
   "source": [
    "s = pd.Series([10, 20, 30], index=[\"a\", \"b\", \"c\"])\n",
    "df = s.to_frame(name=\"Значение\")\n",
    "print(df)"
   ]
  },
  {
   "cell_type": "code",
   "execution_count": 9,
   "id": "d2086a57-634e-4464-95e7-5738b9a7f340",
   "metadata": {},
   "outputs": [
    {
     "name": "stdout",
     "output_type": "stream",
     "text": [
      "a    10\n",
      "b    20\n",
      "c    30\n",
      "Name: Значение, dtype: int64\n"
     ]
    }
   ],
   "source": [
    "s = df[\"Значение\"]\n",
    "print(s)"
   ]
  },
  {
   "cell_type": "code",
   "execution_count": 11,
   "id": "dc18c5ff-79a0-4244-af77-b2a68111e31a",
   "metadata": {},
   "outputs": [
    {
     "name": "stdout",
     "output_type": "stream",
     "text": [
      "     Имя  Возраст   Город\n",
      "0   Анна       25  Москва\n",
      "1   Иван       30     СПб\n",
      "2  Ольга       22  Казань\n"
     ]
    }
   ],
   "source": [
    "import pandas as pd\n",
    "data = {\n",
    "\"Имя\": [\"Анна\", \"Иван\", \"Ольга\"],\n",
    "\"Возраст\": [25, 30, 22],\n",
    "\"Город\": [\"Москва\", \"СПб\", \"Казань\"]\n",
    "}\n",
    "df = pd.DataFrame(data)\n",
    "print(df)"
   ]
  },
  {
   "cell_type": "code",
   "execution_count": 13,
   "id": "8e197ea8-6299-4fa8-a5f8-1d6f80c25c00",
   "metadata": {},
   "outputs": [
    {
     "name": "stdout",
     "output_type": "stream",
     "text": [
      "   Возраст   Город\n",
      "a       25  Москва\n",
      "b       30     СПб\n",
      "c       22  Казань\n"
     ]
    }
   ],
   "source": [
    "ages = pd.Series([25, 30, 22], index=[\"a\", \"b\", \"c\"])\n",
    "cities = pd.Series([\"Москва\", \"СПб\", \"Казань\"], index=[\"a\", \"b\", \"c\"])\n",
    "df = pd.DataFrame({\"Возраст\": ages, \"Город\": cities})\n",
    "print(df)"
   ]
  },
  {
   "cell_type": "code",
   "execution_count": 15,
   "id": "c9bd3187-826a-44b1-8ffe-52829a792d89",
   "metadata": {},
   "outputs": [
    {
     "name": "stdout",
     "output_type": "stream",
     "text": [
      "     Имя  Возраст   Город\n",
      "0   Анна       25  Москва\n",
      "1   Иван       30     СПб\n",
      "2  Ольга       22  Казань\n"
     ]
    }
   ],
   "source": [
    "data = [\n",
    "[\"Анна\", 25, \"Москва\"],\n",
    "[\"Иван\", 30, \"СПб\"],\n",
    "[\"Ольга\", 22, \"Казань\"]\n",
    "]\n",
    "df = pd.DataFrame(data, columns=[\"Имя\", \"Возраст\", \"Город\"])\n",
    "print(df)"
   ]
  },
  {
   "cell_type": "code",
   "execution_count": 17,
   "id": "6f19d319-4614-4a2f-981b-41b3aa9cd4af",
   "metadata": {},
   "outputs": [
    {
     "name": "stdout",
     "output_type": "stream",
     "text": [
      "     Имя  Возраст   Город\n",
      "0   Анна       25  Москва\n",
      "1   Иван       30     NaN\n",
      "2  Ольга       22  Казань\n"
     ]
    }
   ],
   "source": [
    "data = [\n",
    "{\"Имя\": \"Анна\", \"Возраст\": 25, \"Город\": \"Москва\"},\n",
    "{\"Имя\": \"Иван\", \"Возраст\": 30}, # \"Город\" пропущен\n",
    "{\"Имя\": \"Ольга\", \"Возраст\": 22, \"Город\": \"Казань\"}\n",
    "]\n",
    "df = pd.DataFrame(data)\n",
    "print(df)"
   ]
  },
  {
   "cell_type": "code",
   "execution_count": 19,
   "id": "9c235f2a-8a25-4af5-934e-82b96578da23",
   "metadata": {},
   "outputs": [
    {
     "name": "stdout",
     "output_type": "stream",
     "text": [
      "     Имя Возраст   Город\n",
      "0   Анна      25  Москва\n",
      "1   Иван      30     СПб\n",
      "2  Ольга      22  Казань\n"
     ]
    }
   ],
   "source": [
    "import numpy as np\n",
    "data = np.array([\n",
    "[\"Анна\", 25, \"Москва\"],\n",
    "[\"Иван\", 30, \"СПб\"],\n",
    "[\"Ольга\", 22, \"Казань\"]\n",
    "])\n",
    "df = pd.DataFrame(data, columns=[\"Имя\", \"Возраст\", \"Город\"])\n",
    "print(df)"
   ]
  },
  {
   "cell_type": "code",
   "execution_count": 21,
   "id": "d4ac3f69-1cec-4db0-9839-978c1beb352b",
   "metadata": {},
   "outputs": [
    {
     "name": "stdout",
     "output_type": "stream",
     "text": [
      "   Возраст   Вес\n",
      "0     25.0  65.5\n",
      "1     30.0  78.2\n",
      "2     22.0  54.3\n"
     ]
    }
   ],
   "source": [
    "numeric_data = np.array([\n",
    "[25, 65.5],\n",
    "[30, 78.2],\n",
    "[22, 54.3]\n",
    "])\n",
    "df = pd.DataFrame(numeric_data, columns=[\"Возраст\", \"Вес\"])\n",
    "print(df)"
   ]
  },
  {
   "cell_type": "code",
   "execution_count": 23,
   "id": "ca40fd5b-2562-4e21-9d0c-065d703a08af",
   "metadata": {},
   "outputs": [
    {
     "name": "stdout",
     "output_type": "stream",
     "text": [
      "Empty DataFrame\n",
      "Columns: [Имя, Возраст, Город]\n",
      "Index: []\n"
     ]
    }
   ],
   "source": [
    "df = pd.DataFrame(columns=[\"Имя\", \"Возраст\", \"Город\"])\n",
    "print(df)"
   ]
  },
  {
   "cell_type": "code",
   "execution_count": 25,
   "id": "7092459b-5db3-4770-95dd-da27e4212dcc",
   "metadata": {},
   "outputs": [
    {
     "name": "stdout",
     "output_type": "stream",
     "text": [
      "    Имя  Возраст   Город\n",
      "0  Анна       25  Москва\n",
      "1  Иван       30     СПб\n"
     ]
    }
   ],
   "source": [
    "df.loc[0] = [\"Анна\", 25, \"Москва\"]\n",
    "df.loc[1] = [\"Иван\", 30, \"СПб\"]\n",
    "print(df)"
   ]
  },
  {
   "cell_type": "code",
   "execution_count": 27,
   "id": "c06b8c3b-47ef-440b-933b-119f93b8f3b0",
   "metadata": {},
   "outputs": [
    {
     "name": "stdout",
     "output_type": "stream",
     "text": [
      "         Дата  Цена\n",
      "0  2024-03-01   100\n",
      "1  2024-03-02   110\n",
      "2  2024-03-03   105\n",
      "3  2024-03-04   120\n",
      "4  2024-03-05   115\n"
     ]
    }
   ],
   "source": [
    "import pandas as pd\n",
    "df = pd.read_csv(\"data.csv\")\n",
    "print(df.head()) # Выведем первые 5 строк"
   ]
  },
  {
   "cell_type": "code",
   "execution_count": 29,
   "id": "6bf594c8-ce5f-4b76-a8f4-c5f7302eddd8",
   "metadata": {},
   "outputs": [],
   "source": [
    "df = pd.read_csv(\"data.csv\", sep=\";\", index_col=0, na_values=[\"?\", \"N/A\"])"
   ]
  },
  {
   "cell_type": "code",
   "execution_count": 31,
   "id": "1c7f1f45-b1cc-4508-80d7-ab2f65303b68",
   "metadata": {},
   "outputs": [],
   "source": [
    "df.to_csv(\"output.csv\", index=False) # index=False — не сохранять индекс"
   ]
  },
  {
   "cell_type": "code",
   "execution_count": null,
   "id": "773ec5da-1d34-47ff-b065-9340656c761e",
   "metadata": {},
   "outputs": [],
   "source": [
    "df = pd.read_excel(\"data.xlsx\", sheet_name=\"Лист1\")\n",
    "print(df.head())"
   ]
  },
  {
   "cell_type": "code",
   "execution_count": 36,
   "id": "18047398-1a23-49bb-bd2f-f425c0dca145",
   "metadata": {},
   "outputs": [],
   "source": [
    "df.to_excel(\"output.xlsx\", sheet_name=\"Результаты\", index=False)"
   ]
  },
  {
   "cell_type": "code",
   "execution_count": 38,
   "id": "a5442ee3-9321-4498-8a20-212dd8a7cede",
   "metadata": {},
   "outputs": [
    {
     "name": "stdout",
     "output_type": "stream",
     "text": [
      "Requirement already satisfied: openpyxl in c:\\users\\hesko\\anaconda3\\lib\\site-packages (3.1.5)\n",
      "Requirement already satisfied: et-xmlfile in c:\\users\\hesko\\anaconda3\\lib\\site-packages (from openpyxl) (1.1.0)\n",
      "Note: you may need to restart the kernel to use updated packages.\n"
     ]
    }
   ],
   "source": [
    "pip install openpyxl"
   ]
  },
  {
   "cell_type": "code",
   "execution_count": 233,
   "id": "4891d25b-0d1a-45cd-9137-35bb973a3fe1",
   "metadata": {},
   "outputs": [
    {
     "data": {
      "text/plain": [
       "3"
      ]
     },
     "execution_count": 233,
     "metadata": {},
     "output_type": "execute_result"
    }
   ],
   "source": [
    "df.to_sql(\"users\", conn, if_exists=\"replace\", index=False )"
   ]
  },
  {
   "cell_type": "code",
   "execution_count": 51,
   "id": "e4248f69-caf9-41d7-bc6f-896da17acee4",
   "metadata": {},
   "outputs": [],
   "source": [
    "df.to_json(\"output.json\", orient=\"records\", indent=4)"
   ]
  },
  {
   "cell_type": "code",
   "execution_count": 59,
   "id": "32ff5561-3b86-44d0-9465-8bd073fc15f7",
   "metadata": {},
   "outputs": [
    {
     "name": "stdout",
     "output_type": "stream",
     "text": [
      "Requirement already satisfied: pyarrow in c:\\users\\hesko\\anaconda3\\lib\\site-packages (16.1.0)\n",
      "Requirement already satisfied: numpy>=1.16.6 in c:\\users\\hesko\\anaconda3\\lib\\site-packages (from pyarrow) (1.26.4)\n"
     ]
    }
   ],
   "source": [
    "!pip install pyarrow"
   ]
  },
  {
   "cell_type": "code",
   "execution_count": null,
   "id": "f4f1c8d3-76be-4d1b-8698-b71c5eeac95f",
   "metadata": {},
   "outputs": [],
   "source": [
    "df = pd.read_parquet(\"data.parquet\")\n",
    "print(df.head())"
   ]
  },
  {
   "cell_type": "code",
   "execution_count": 63,
   "id": "37c62c85-2ea5-40bc-8d01-c2ec2132a75d",
   "metadata": {},
   "outputs": [],
   "source": [
    "df.to_parquet(\"output.parquet\", engine=\"pyarrow\", index=False)"
   ]
  },
  {
   "cell_type": "code",
   "execution_count": 65,
   "id": "ebb83f49-0fdb-4f77-9212-b9dba9f10bc8",
   "metadata": {},
   "outputs": [
    {
     "name": "stdout",
     "output_type": "stream",
     "text": [
      "     Имя  Возраст   Город\n",
      "0   Анна       25  Москва\n",
      "1   Иван       30     СПб\n",
      "2  Ольга       22  Казань\n"
     ]
    }
   ],
   "source": [
    "import pandas as pd\n",
    "# Создадим небольшой DataFrame\n",
    "data = {\n",
    "\"Имя\": [\"Анна\", \"Иван\", \"Ольга\", \"Петр\", \"Мария\", \"Сергей\"],\n",
    "\"Возраст\": [25, 30, 22, 40, 35, 28],\n",
    "\"Город\": [\"Москва\", \"СПб\", \"Казань\", \"Новосибирск\",\n",
    "\"Екатеринбург\", \"Сочи\"]\n",
    "}\n",
    "df = pd.DataFrame(data)\n",
    "# Выведем первые 3 строки\n",
    "print(df.head(3))"
   ]
  },
  {
   "cell_type": "code",
   "execution_count": 67,
   "id": "b9985be2-8523-42ac-9c60-d1857092393e",
   "metadata": {},
   "outputs": [
    {
     "name": "stdout",
     "output_type": "stream",
     "text": [
      "      Имя  Возраст         Город\n",
      "4   Мария       35  Екатеринбург\n",
      "5  Сергей       28          Сочи\n"
     ]
    }
   ],
   "source": [
    "print(df.tail(2)) # Последние 2 строки"
   ]
  },
  {
   "cell_type": "code",
   "execution_count": 69,
   "id": "1abafe25-e3ea-43ed-9b50-439cb60af766",
   "metadata": {},
   "outputs": [
    {
     "name": "stdout",
     "output_type": "stream",
     "text": [
      "<class 'pandas.core.frame.DataFrame'>\n",
      "RangeIndex: 6 entries, 0 to 5\n",
      "Data columns (total 3 columns):\n",
      " #   Column   Non-Null Count  Dtype \n",
      "---  ------   --------------  ----- \n",
      " 0   Имя      6 non-null      object\n",
      " 1   Возраст  6 non-null      int64 \n",
      " 2   Город    6 non-null      object\n",
      "dtypes: int64(1), object(2)\n",
      "memory usage: 276.0+ bytes\n"
     ]
    }
   ],
   "source": [
    "df.info()"
   ]
  },
  {
   "cell_type": "code",
   "execution_count": 71,
   "id": "691ef9ed-0ee7-4306-a762-dd53e2b52c38",
   "metadata": {},
   "outputs": [
    {
     "name": "stdout",
     "output_type": "stream",
     "text": [
      "        Возраст\n",
      "count   6.00000\n",
      "mean   30.00000\n",
      "std     6.60303\n",
      "min    22.00000\n",
      "25%    25.75000\n",
      "50%    29.00000\n",
      "75%    33.75000\n",
      "max    40.00000\n"
     ]
    }
   ],
   "source": [
    "print(df.describe())"
   ]
  },
  {
   "cell_type": "code",
   "execution_count": 73,
   "id": "67bd5ba3-7f1a-4cbd-a8f8-30ad44607df3",
   "metadata": {},
   "outputs": [
    {
     "name": "stdout",
     "output_type": "stream",
     "text": [
      "         Имя   Город\n",
      "count      6       6\n",
      "unique     6       6\n",
      "top     Анна  Москва\n",
      "freq       1       1\n"
     ]
    }
   ],
   "source": [
    "print(df.describe(include=\"object\")) # Анализ строковых данных"
   ]
  },
  {
   "cell_type": "code",
   "execution_count": 75,
   "id": "7ba2d077-f506-4956-8b72-a5f0de622d25",
   "metadata": {},
   "outputs": [
    {
     "name": "stdout",
     "output_type": "stream",
     "text": [
      "     Имя  Возраст        Город\n",
      "a   Анна       25       Москва\n",
      "b   Иван       30          СПб\n",
      "c  Ольга       22       Казань\n",
      "d   Петр       40  Новосибирск\n"
     ]
    }
   ],
   "source": [
    "import pandas as pd\n",
    "data = {\n",
    "\"Имя\": [\"Анна\", \"Иван\", \"Ольга\", \"Петр\"],\n",
    "\"Возраст\": [25, 30, 22, 40],\n",
    "\"Город\": [\"Москва\", \"СПб\", \"Казань\", \"Новосибирск\"]\n",
    "}\n",
    "df = pd.DataFrame(data, index=[\"a\", \"b\", \"c\", \"d\"])\n",
    "print(df)"
   ]
  },
  {
   "cell_type": "code",
   "execution_count": 77,
   "id": "fac4dffe-db3d-4017-9e8e-275a1d8bb83c",
   "metadata": {},
   "outputs": [
    {
     "name": "stdout",
     "output_type": "stream",
     "text": [
      "Имя        Иван\n",
      "Возраст      30\n",
      "Город       СПб\n",
      "Name: b, dtype: object\n"
     ]
    }
   ],
   "source": [
    "print(df.loc[\"b\"])"
   ]
  },
  {
   "cell_type": "code",
   "execution_count": 79,
   "id": "8253db08-def7-40fe-9545-ada2c9cbae58",
   "metadata": {},
   "outputs": [
    {
     "name": "stdout",
     "output_type": "stream",
     "text": [
      "Казань\n"
     ]
    }
   ],
   "source": [
    "print(df.loc[\"c\", \"Город\"]) # Получим город Ольги"
   ]
  },
  {
   "cell_type": "code",
   "execution_count": 81,
   "id": "e5312d30-bd84-440d-a348-ea62ae2eeb7b",
   "metadata": {},
   "outputs": [
    {
     "name": "stdout",
     "output_type": "stream",
     "text": [
      "     Имя  Возраст   Город\n",
      "a   Анна       25  Москва\n",
      "c  Ольга       22  Казань\n"
     ]
    }
   ],
   "source": [
    "print(df.loc[[\"a\", \"c\"]]) # Выбор строк \"a\" и \"c\""
   ]
  },
  {
   "cell_type": "code",
   "execution_count": 83,
   "id": "68c6286b-0746-4a40-a49c-2fd4ce9cac9a",
   "metadata": {},
   "outputs": [
    {
     "name": "stdout",
     "output_type": "stream",
     "text": [
      "     Имя        Город\n",
      "a   Анна       Москва\n",
      "b   Иван          СПб\n",
      "c  Ольга       Казань\n",
      "d   Петр  Новосибирск\n"
     ]
    }
   ],
   "source": [
    "print(df.loc[:, [\"Имя\", \"Город\"]]) # Выбор всех строк, но только двух столбцов"
   ]
  },
  {
   "cell_type": "code",
   "execution_count": 85,
   "id": "150fc2bd-17bd-4284-8c5a-9db4fe2a7c35",
   "metadata": {},
   "outputs": [
    {
     "name": "stdout",
     "output_type": "stream",
     "text": [
      "    Имя  Возраст        Город\n",
      "b  Иван       30          СПб\n",
      "d  Петр       40  Новосибирск\n"
     ]
    }
   ],
   "source": [
    "print(df.loc[df[\"Возраст\"] > 25]) # Выведем строки, где возраст больше 25"
   ]
  },
  {
   "cell_type": "code",
   "execution_count": 87,
   "id": "40aa1371-17c2-4774-92e2-28e3fd7a6bd0",
   "metadata": {},
   "outputs": [
    {
     "name": "stdout",
     "output_type": "stream",
     "text": [
      "Имя        Иван\n",
      "Возраст      30\n",
      "Город       СПб\n",
      "Name: b, dtype: object\n"
     ]
    }
   ],
   "source": [
    "print(df.iloc[1]) # Вторая строка (нумерация с 0)"
   ]
  },
  {
   "cell_type": "code",
   "execution_count": 89,
   "id": "db9ca3e0-88f0-4d32-969c-fbee7a672446",
   "metadata": {},
   "outputs": [
    {
     "name": "stdout",
     "output_type": "stream",
     "text": [
      "Казань\n"
     ]
    }
   ],
   "source": [
    "print(df.iloc[2, 2]) # 3-я строка, 3-й столбец (Город Ольги)"
   ]
  },
  {
   "cell_type": "code",
   "execution_count": 91,
   "id": "8ceb893a-039c-4c49-9801-20cf6c461161",
   "metadata": {},
   "outputs": [
    {
     "name": "stdout",
     "output_type": "stream",
     "text": [
      "     Имя  Возраст   Город\n",
      "a   Анна       25  Москва\n",
      "c  Ольга       22  Казань\n"
     ]
    }
   ],
   "source": [
    "print(df.iloc[[0, 2]]) # Строки 0 и 2 (Анна и Ольга)"
   ]
  },
  {
   "cell_type": "code",
   "execution_count": 93,
   "id": "ee12acf3-c5e0-472a-82b1-541a9af78886",
   "metadata": {},
   "outputs": [
    {
     "name": "stdout",
     "output_type": "stream",
     "text": [
      "     Имя  Возраст   Город\n",
      "b   Иван       30     СПб\n",
      "c  Ольга       22  Казань\n"
     ]
    }
   ],
   "source": [
    "print(df.iloc[1:3]) # Выбираем строки с 1 по 2 (не включая 3)"
   ]
  },
  {
   "cell_type": "code",
   "execution_count": 95,
   "id": "7177ec57-252b-4285-adc2-89616b06cfe5",
   "metadata": {},
   "outputs": [
    {
     "name": "stdout",
     "output_type": "stream",
     "text": [
      "     Имя        Город\n",
      "a   Анна       Москва\n",
      "b   Иван          СПб\n",
      "c  Ольга       Казань\n",
      "d   Петр  Новосибирск\n"
     ]
    }
   ],
   "source": [
    "print(df.iloc[:, [0, 2]]) # Все строки, но только 1-й и 3-й столбцы"
   ]
  },
  {
   "cell_type": "code",
   "execution_count": 97,
   "id": "0d8fe565-643c-47eb-8163-0719153ee88a",
   "metadata": {},
   "outputs": [
    {
     "name": "stdout",
     "output_type": "stream",
     "text": [
      "Казань\n"
     ]
    }
   ],
   "source": [
    "print(df.at[\"c\", \"Город\"]) # Город Ольги"
   ]
  },
  {
   "cell_type": "code",
   "execution_count": 99,
   "id": "11b3ce5d-1faa-4764-babc-b0a145d25b30",
   "metadata": {},
   "outputs": [
    {
     "name": "stdout",
     "output_type": "stream",
     "text": [
      "Казань\n"
     ]
    }
   ],
   "source": [
    "print(df.iat[2, 2]) # Город Ольги (3-я строка, 3-й столбец)"
   ]
  },
  {
   "cell_type": "code",
   "execution_count": 101,
   "id": "6324d47c-6287-4b1f-90b9-b3b6ba01fe20",
   "metadata": {},
   "outputs": [
    {
     "name": "stdout",
     "output_type": "stream",
     "text": [
      "     Имя  Возраст   Город\n",
      "0   Анна       25  Москва\n",
      "1   Иван       30     СПб\n",
      "2  Ольга       22  Казань\n"
     ]
    }
   ],
   "source": [
    "import pandas as pd\n",
    "data = {\n",
    "\"Имя\": [\"Анна\", \"Иван\", \"Ольга\"],\n",
    "\"Возраст\": [25, 30, 22]\n",
    "}\n",
    "df = pd.DataFrame(data)\n",
    "df[\"Город\"] = [\"Москва\", \"СПб\", \"Казань\"] # Добавляем новый столбец\n",
    "print(df)"
   ]
  },
  {
   "cell_type": "code",
   "execution_count": 103,
   "id": "6a42b8b5-9e0d-4db1-ac2d-a9fcee9e6533",
   "metadata": {},
   "outputs": [
    {
     "name": "stdout",
     "output_type": "stream",
     "text": [
      "     Имя  Возраст   Город  Страна\n",
      "0   Анна       25  Москва  Россия\n",
      "1   Иван       30     СПб  Россия\n",
      "2  Ольга       22  Казань  Россия\n"
     ]
    }
   ],
   "source": [
    "df[\"Страна\"] = \"Россия\"\n",
    "print(df)\n"
   ]
  },
  {
   "cell_type": "code",
   "execution_count": 105,
   "id": "1394758d-5cb6-4b65-9bbb-663d32e80b8d",
   "metadata": {},
   "outputs": [
    {
     "name": "stdout",
     "output_type": "stream",
     "text": [
      "     Имя  Возраст   Город  Страна  Возраст_в_месяцах\n",
      "0   Анна       25  Москва  Россия                300\n",
      "1   Иван       30     СПб  Россия                360\n",
      "2  Ольга       22  Казань  Россия                264\n"
     ]
    }
   ],
   "source": [
    "df[\"Возраст_в_месяцах\"] = df[\"Возраст\"] * 12\n",
    "print(df)"
   ]
  },
  {
   "cell_type": "code",
   "execution_count": 107,
   "id": "1da53310-bfca-47ec-9fcf-63f1ce6d1f32",
   "metadata": {},
   "outputs": [
    {
     "name": "stdout",
     "output_type": "stream",
     "text": [
      "     Имя  Возраст   Город  Страна  Возраст_в_месяцах  Зарплата\n",
      "0   Анна       25  Москва  Россия                300     50000\n",
      "1   Иван       30     СПб  Россия                360     60000\n",
      "2  Ольга       22  Казань  Россия                264     45000\n"
     ]
    }
   ],
   "source": [
    "df = df.assign(Зарплата=[50000, 60000, 45000])\n",
    "print(df)"
   ]
  },
  {
   "cell_type": "code",
   "execution_count": 109,
   "id": "91c7ac4c-e8c4-4c72-9049-a0748609b5cd",
   "metadata": {},
   "outputs": [
    {
     "name": "stdout",
     "output_type": "stream",
     "text": [
      "     Имя  Возраст   Город  Страна  Возраст_в_месяцах  Зарплата  \\\n",
      "0   Анна       25  Москва  Россия                300     50000   \n",
      "1   Иван       30     СПб  Россия                360     60000   \n",
      "2  Ольга       22  Казань  Россия                264     45000   \n",
      "\n",
      "  Категория возраста  \n",
      "0            Молодой  \n",
      "1           Взрослый  \n",
      "2            Молодой  \n"
     ]
    }
   ],
   "source": [
    "df[\"Категория возраста\"] = df[\"Возраст\"].apply(lambda x: \"Молодой\" if\n",
    "x < 30 else \"Взрослый\")\n",
    "print(df)"
   ]
  },
  {
   "cell_type": "code",
   "execution_count": 238,
   "id": "f3541b1e-3303-4fdf-9e20-2b023066cd22",
   "metadata": {},
   "outputs": [
    {
     "name": "stdout",
     "output_type": "stream",
     "text": [
      "     Имя      Возраст   Город\n",
      "0   Анна           25  Москва\n",
      "1   Иван           30     СПб\n",
      "2  Ольга           22  Казань\n",
      "3   Петр  Новосибирск  Россия\n"
     ]
    }
   ],
   "source": [
    "df.loc[3] = [\"Петр\", \"Новосибирск\", \"Россия\"]\n",
    "print(df)"
   ]
  },
  {
   "cell_type": "code",
   "execution_count": 123,
   "id": "c9de89c4-97e5-43e7-9b14-f01cf87cebce",
   "metadata": {},
   "outputs": [
    {
     "name": "stdout",
     "output_type": "stream",
     "text": [
      "       Имя  Возраст   Город  Страна  Возраст_в_месяцах  Зарплата  \\\n",
      "0     Анна       25  Москва  Россия              300.0   50000.0   \n",
      "1     Иван       30     СПб  Россия              360.0   60000.0   \n",
      "2    Ольга       22  Казань  Россия              264.0   45000.0   \n",
      "3  Алексей       29   Томск  Россия                NaN       NaN   \n",
      "\n",
      "  Категория возраста  \n",
      "0            Молодой  \n",
      "1           Взрослый  \n",
      "2            Молодой  \n",
      "3                NaN  \n"
     ]
    }
   ],
   "source": [
    "new_data = pd.DataFrame([{\"Имя\": \"Алексей\", \"Возраст\": 29, \"Город\":\n",
    "\"Томск\", \"Страна\": \"Россия\"}])\n",
    "df = pd.concat([df, new_data], ignore_index=True)\n",
    "print(df)"
   ]
  },
  {
   "cell_type": "code",
   "execution_count": 125,
   "id": "fc979508-5750-4d5f-8b05-d676c92dbb4d",
   "metadata": {},
   "outputs": [
    {
     "name": "stdout",
     "output_type": "stream",
     "text": [
      "       Имя  Возраст    Город  Страна  Возраст_в_месяцах  Зарплата  \\\n",
      "0     Анна       25   Москва  Россия              300.0   50000.0   \n",
      "1     Иван       30      СПб  Россия              360.0   60000.0   \n",
      "2    Ольга       22   Казань  Россия              264.0   45000.0   \n",
      "3  Алексей       29    Томск  Россия                NaN       NaN   \n",
      "4  Дмитрий       31   Самара  Россия                NaN       NaN   \n",
      "5    Елена       27  Воронеж  Россия                NaN       NaN   \n",
      "\n",
      "  Категория возраста  \n",
      "0            Молодой  \n",
      "1           Взрослый  \n",
      "2            Молодой  \n",
      "3                NaN  \n",
      "4                NaN  \n",
      "5                NaN  \n"
     ]
    }
   ],
   "source": [
    "new_rows = pd.DataFrame([{\"Имя\": \"Дмитрий\", \"Возраст\": 31, \"Город\": \"Самара\", \"Страна\":\n",
    "\"Россия\"},\n",
    "{\"Имя\": \"Елена\", \"Возраст\": 27, \"Город\": \"Воронеж\", \"Страна\":\n",
    "\"Россия\"}\n",
    "])\n",
    "df = pd.concat([df, new_rows], ignore_index=True)\n",
    "print(df)"
   ]
  },
  {
   "cell_type": "code",
   "execution_count": 244,
   "id": "a124da37-d423-4463-a2a6-45f3183c4560",
   "metadata": {},
   "outputs": [
    {
     "name": "stdout",
     "output_type": "stream",
     "text": [
      "         Имя      Возраст   Город\n",
      "0       Анна           25  Москва\n",
      "1       Иван           30     СПб\n",
      "2      Ольга           22  Казань\n",
      "3       Петр  Новосибирск  Россия\n",
      "новый  Артем       Калуга  Россия\n"
     ]
    }
   ],
   "source": [
    "df.loc[\"новый\"] = [\"Артем\", \"Калуга\", \"Россия\"]\n",
    "print(df)"
   ]
  },
  {
   "cell_type": "code",
   "execution_count": 129,
   "id": "4d63dd39-5ad2-4d77-a3c7-e17671c8f8d4",
   "metadata": {},
   "outputs": [
    {
     "name": "stdout",
     "output_type": "stream",
     "text": [
      "     Имя  Возраст   Город\n",
      "0   Анна       25  Москва\n",
      "1   Иван       30     СПб\n",
      "2  Ольга       22  Казань\n"
     ]
    }
   ],
   "source": [
    "import pandas as pd\n",
    "data = {\n",
    "\"Имя\": [\"Анна\", \"Иван\", \"Ольга\"],\n",
    "\"Возраст\": [25, 30, 22],\n",
    "\"Город\": [\"Москва\", \"СПб\", \"Казань\"],\n",
    "\"Зарплата\": [50000, 60000, 45000]\n",
    "}\n",
    "df = pd.DataFrame(data)\n",
    "# Удаляем столбец \"Зарплата\"\n",
    "df = df.drop(columns=[\"Зарплата\"])\n",
    "print(df)"
   ]
  },
  {
   "cell_type": "code",
   "execution_count": 131,
   "id": "839330d8-d214-42df-b95b-95e3d4f7715b",
   "metadata": {},
   "outputs": [
    {
     "name": "stdout",
     "output_type": "stream",
     "text": [
      "     Имя\n",
      "0   Анна\n",
      "1   Иван\n",
      "2  Ольга\n"
     ]
    }
   ],
   "source": [
    "df = df.drop(columns=[\"Возраст\", \"Город\"])\n",
    "print(df)"
   ]
  },
  {
   "cell_type": "code",
   "execution_count": 133,
   "id": "c5474320-20b8-45ea-9661-77507c11bdb2",
   "metadata": {},
   "outputs": [
    {
     "name": "stdout",
     "output_type": "stream",
     "text": [
      "Empty DataFrame\n",
      "Columns: []\n",
      "Index: [0, 1, 2]\n"
     ]
    }
   ],
   "source": [
    "del df[\"Имя\"]\n",
    "print(df)"
   ]
  },
  {
   "cell_type": "code",
   "execution_count": 135,
   "id": "75358f9a-1d14-44b9-b987-1f2632de1793",
   "metadata": {},
   "outputs": [
    {
     "name": "stdout",
     "output_type": "stream",
     "text": [
      "0     Анна\n",
      "1     Иван\n",
      "2    Ольга\n",
      "Name: Имя, dtype: object\n"
     ]
    }
   ],
   "source": [
    "df[\"Имя\"] = [\"Анна\", \"Иван\", \"Ольга\"] # Вернем столбец для примера\n",
    "удаленный_столбец = df.pop(\"Имя\")\n",
    "print(удаленный_столбец)"
   ]
  },
  {
   "cell_type": "code",
   "execution_count": 137,
   "id": "39ec9e6a-53e9-409d-9478-98289adf7e8b",
   "metadata": {},
   "outputs": [
    {
     "name": "stdout",
     "output_type": "stream",
     "text": [
      "     Имя  Возраст   Город  Зарплата\n",
      "0   Анна       25  Москва     50000\n",
      "2  Ольга       22  Казань     45000\n"
     ]
    }
   ],
   "source": [
    "df = pd.DataFrame(data) # Восстанавливаем DataFrame\n",
    "# Удаляем строку с индексом 1 (Иван)\n",
    "df = df.drop(index=1)\n",
    "print(df)"
   ]
  },
  {
   "cell_type": "code",
   "execution_count": 139,
   "id": "b83557ab-982c-43fd-b7ec-14b8f4be5448",
   "metadata": {},
   "outputs": [
    {
     "name": "stdout",
     "output_type": "stream",
     "text": [
      "Empty DataFrame\n",
      "Columns: [Имя, Возраст, Город, Зарплата]\n",
      "Index: []\n"
     ]
    }
   ],
   "source": [
    "df = df.drop(index=[0, 2]) # Удаляем Анну и Ольгу\n",
    "print(df)"
   ]
  },
  {
   "cell_type": "code",
   "execution_count": 141,
   "id": "eb46efff-5627-4950-aaf3-ceae48257495",
   "metadata": {},
   "outputs": [
    {
     "name": "stdout",
     "output_type": "stream",
     "text": [
      "    Имя  Возраст Город  Зарплата\n",
      "1  Иван       30   СПб     60000\n"
     ]
    }
   ],
   "source": [
    "df = pd.DataFrame(data) # Восстанавливаем DataFrame\n",
    "# Оставляем только людей старше 25 лет\n",
    "df = df[df[\"Возраст\"] > 25]\n",
    "print(df)"
   ]
  },
  {
   "cell_type": "code",
   "execution_count": 143,
   "id": "d6c68abd-a384-42cf-891e-266bce61c7f2",
   "metadata": {},
   "outputs": [
    {
     "name": "stdout",
     "output_type": "stream",
     "text": [
      "    Имя  Возраст Город  Зарплата\n",
      "0  Иван       30   СПб     60000\n"
     ]
    }
   ],
   "source": [
    "df = df.reset_index(drop=True) # Сбрасываем индексы\n",
    "print(df)"
   ]
  },
  {
   "cell_type": "code",
   "execution_count": 147,
   "id": "0a4e5885-2560-4df2-92e7-ec002773d5d7",
   "metadata": {},
   "outputs": [
    {
     "name": "stdout",
     "output_type": "stream",
     "text": [
      "    Имя Возраст Город  Зарплата\n",
      "0  Иван      30   СПб     60000\n"
     ]
    }
   ],
   "source": [
    "df.loc[3] = [\"Мария\", None, \"Самара\", 55000] # Добавим строку с пропуском\n",
    "df = df.dropna() # Удалим все строки с пропущенными значениями\n",
    "print(df)"
   ]
  },
  {
   "cell_type": "code",
   "execution_count": 149,
   "id": "0ca5ab65-08f0-463a-8286-ba81ed5cceda",
   "metadata": {},
   "outputs": [
    {
     "name": "stdout",
     "output_type": "stream",
     "text": [
      "     Имя  Возраст\n",
      "0   Анна       25\n",
      "1   Иван       30\n",
      "3  Ольга       22\n"
     ]
    }
   ],
   "source": [
    "df = pd.DataFrame({\n",
    "\"Имя\": [\"Анна\", \"Иван\", \"Анна\", \"Ольга\"],\n",
    "\"Возраст\": [25, 30, 25, 22]\n",
    "})\n",
    "df = df.drop_duplicates()\n",
    "print(df)"
   ]
  },
  {
   "cell_type": "code",
   "execution_count": 151,
   "id": "53f432f4-01a1-4abd-8b34-2b733915aaaf",
   "metadata": {},
   "outputs": [],
   "source": [
    "df = df.drop_duplicates(subset=[\"Имя\"])"
   ]
  },
  {
   "cell_type": "code",
   "execution_count": 153,
   "id": "d2833799-5040-4889-89a7-c5325b199eea",
   "metadata": {},
   "outputs": [
    {
     "name": "stdout",
     "output_type": "stream",
     "text": [
      "     Имя  Возраст        Город  Зарплата\n",
      "0   Анна       25       Москва     50000\n",
      "1   Иван       30          СПб     60000\n",
      "2  Ольга       22       Казань     45000\n",
      "3   Петр       40  Новосибирск     70000\n",
      "4  Мария       35          СПб     65000\n"
     ]
    }
   ],
   "source": [
    "import pandas as pd\n",
    "data = {\n",
    "\"Имя\": [\"Анна\", \"Иван\", \"Ольга\", \"Петр\", \"Мария\"],\n",
    "\"Возраст\": [25, 30, 22, 40, 35],\n",
    "\"Город\": [\"Москва\", \"СПб\", \"Казань\", \"Новосибирск\", \"СПб\"],\n",
    "\"Зарплата\": [50000, 60000, 45000, 70000, 65000]\n",
    "}\n",
    "df = pd.DataFrame(data)\n",
    "print(df)"
   ]
  },
  {
   "cell_type": "code",
   "execution_count": 155,
   "id": "0d55ce50-bbde-4967-8845-ec3989d88c33",
   "metadata": {},
   "outputs": [
    {
     "name": "stdout",
     "output_type": "stream",
     "text": [
      "     Имя  Возраст        Город  Зарплата\n",
      "3   Петр       40  Новосибирск     70000\n",
      "4  Мария       35          СПб     65000\n"
     ]
    }
   ],
   "source": [
    "df_filtered = df.query(\"Возраст > 30\")\n",
    "print(df_filtered)"
   ]
  },
  {
   "cell_type": "code",
   "execution_count": 157,
   "id": "cd4ba801-04e7-49e9-9d51-6fe709b5eb25",
   "metadata": {},
   "outputs": [
    {
     "name": "stdout",
     "output_type": "stream",
     "text": [
      "     Имя  Возраст Город  Зарплата\n",
      "4  Мария       35   СПб     65000\n"
     ]
    }
   ],
   "source": [
    "df_filtered = df.query(\"Город == 'СПб' and Зарплата > 60000\")\n",
    "print(df_filtered)"
   ]
  },
  {
   "cell_type": "code",
   "execution_count": 159,
   "id": "08821cb3-00a9-4fec-bb82-126d1bf1b19b",
   "metadata": {},
   "outputs": [
    {
     "name": "stdout",
     "output_type": "stream",
     "text": [
      "     Имя  Возраст        Город  Зарплата\n",
      "1   Иван       30          СПб     60000\n",
      "3   Петр       40  Новосибирск     70000\n",
      "4  Мария       35          СПб     65000\n"
     ]
    }
   ],
   "source": [
    "min_age = 25\n",
    "df_filtered = df.query(\"Возраст > @min_age\")\n",
    "print(df_filtered)"
   ]
  },
  {
   "cell_type": "code",
   "execution_count": 161,
   "id": "166511b6-a8fd-4438-a51c-6187d5f70238",
   "metadata": {},
   "outputs": [
    {
     "name": "stdout",
     "output_type": "stream",
     "text": [
      "     Имя  Возраст   Город  Зарплата\n",
      "0   Анна       25  Москва     50000\n",
      "1   Иван       30     СПб     60000\n",
      "4  Мария       35     СПб     65000\n"
     ]
    }
   ],
   "source": [
    "df_filtered = df[df[\"Город\"].isin([\"Москва\", \"СПб\"])]\n",
    "print(df_filtered)"
   ]
  },
  {
   "cell_type": "code",
   "execution_count": 163,
   "id": "1399c35c-942f-47b3-bba6-e1e809e4a3d3",
   "metadata": {},
   "outputs": [
    {
     "name": "stdout",
     "output_type": "stream",
     "text": [
      "     Имя  Возраст        Город  Зарплата\n",
      "2  Ольга       22       Казань     45000\n",
      "3   Петр       40  Новосибирск     70000\n"
     ]
    }
   ],
   "source": [
    "df_filtered = df[~df[\"Город\"].isin([\"Москва\", \"СПб\"])]\n",
    "print(df_filtered)"
   ]
  },
  {
   "cell_type": "code",
   "execution_count": 165,
   "id": "e12d9f7f-a275-4a2e-ae0f-ea8d5e2fbd7a",
   "metadata": {},
   "outputs": [
    {
     "name": "stdout",
     "output_type": "stream",
     "text": [
      "     Имя  Возраст   Город  Зарплата\n",
      "0   Анна       25  Москва     50000\n",
      "1   Иван       30     СПб     60000\n",
      "4  Мария       35     СПб     65000\n"
     ]
    }
   ],
   "source": [
    "df_filtered = df[df[\"Возраст\"].between(25, 35)]\n",
    "print(df_filtered)"
   ]
  },
  {
   "cell_type": "code",
   "execution_count": 167,
   "id": "e5819fc1-acd0-4f78-9ac2-22b7b0458516",
   "metadata": {},
   "outputs": [
    {
     "name": "stdout",
     "output_type": "stream",
     "text": [
      "    Имя  Возраст Город  Зарплата\n",
      "1  Иван       30   СПб     60000\n"
     ]
    }
   ],
   "source": [
    "df_filtered = df[df[\"Возраст\"].between(25, 35, inclusive=\"neither\")]\n",
    "print(df_filtered)"
   ]
  },
  {
   "cell_type": "code",
   "execution_count": 169,
   "id": "a99b9c41-74c5-4054-aeca-f2d39ddaa5a4",
   "metadata": {},
   "outputs": [
    {
     "name": "stdout",
     "output_type": "stream",
     "text": [
      "     Имя  Возраст        Город\n",
      "0   Анна     25.0       Москва\n",
      "1   Иван     30.0          СПб\n",
      "2  Ольга     22.0       Казань\n",
      "3   Петр      NaN  Новосибирск\n",
      "4   None     35.0          СПб\n"
     ]
    }
   ],
   "source": [
    "import pandas as pd\n",
    "data = {\"Имя\": [\"Анна\", \"Иван\", \"Ольга\", \"Петр\", None],\n",
    "\"Возраст\": [25, 30, 22, None, 35],\n",
    "\"Город\": [\"Москва\", \"СПб\", \"Казань\", \"Новосибирск\", \"СПб\"]\n",
    "}\n",
    "df = pd.DataFrame(data)\n",
    "print(df)"
   ]
  },
  {
   "cell_type": "code",
   "execution_count": 171,
   "id": "e0c5caa7-a724-4ef3-aa2d-65c3bf45c75b",
   "metadata": {},
   "outputs": [
    {
     "name": "stdout",
     "output_type": "stream",
     "text": [
      "Имя        4\n",
      "Возраст    4\n",
      "Город      5\n",
      "dtype: int64\n"
     ]
    }
   ],
   "source": [
    "print(df.count())"
   ]
  },
  {
   "cell_type": "code",
   "execution_count": 173,
   "id": "bfd5600c-cc7f-4bae-bba8-70f79fd48fd9",
   "metadata": {},
   "outputs": [
    {
     "name": "stdout",
     "output_type": "stream",
     "text": [
      "Город\n",
      "СПб            2\n",
      "Москва         1\n",
      "Казань         1\n",
      "Новосибирск    1\n",
      "Name: count, dtype: int64\n"
     ]
    }
   ],
   "source": [
    "print(df[\"Город\"].value_counts())"
   ]
  },
  {
   "cell_type": "code",
   "execution_count": 175,
   "id": "fdda5891-a0d4-4837-abd1-5338618e83d2",
   "metadata": {},
   "outputs": [
    {
     "name": "stdout",
     "output_type": "stream",
     "text": [
      "Город\n",
      "Москва         1\n",
      "СПб            2\n",
      "Казань         1\n",
      "Новосибирск    1\n",
      "Name: count, dtype: int64\n"
     ]
    }
   ],
   "source": [
    "print(df[\"Город\"].value_counts(sort=False))"
   ]
  },
  {
   "cell_type": "code",
   "execution_count": 177,
   "id": "8f5f12c6-aed4-4318-b192-89c95669c218",
   "metadata": {},
   "outputs": [
    {
     "name": "stdout",
     "output_type": "stream",
     "text": [
      "Имя\n",
      "Анна     1\n",
      "Иван     1\n",
      "Ольга    1\n",
      "Петр     1\n",
      "None     1\n",
      "Name: count, dtype: int64\n"
     ]
    }
   ],
   "source": [
    "print(df[\"Имя\"].value_counts(dropna=False))"
   ]
  },
  {
   "cell_type": "code",
   "execution_count": 179,
   "id": "afa7c311-cd1e-4afb-9255-d8b90934147c",
   "metadata": {},
   "outputs": [
    {
     "name": "stdout",
     "output_type": "stream",
     "text": [
      "Имя        4\n",
      "Возраст    4\n",
      "Город      4\n",
      "dtype: int64\n"
     ]
    }
   ],
   "source": [
    "print(df.nunique())"
   ]
  },
  {
   "cell_type": "code",
   "execution_count": 181,
   "id": "a95d0590-7c2e-46bb-9b0f-2d9f7e27d312",
   "metadata": {},
   "outputs": [
    {
     "name": "stdout",
     "output_type": "stream",
     "text": [
      "5\n"
     ]
    }
   ],
   "source": [
    "print(df[\"Имя\"].nunique(dropna=False))"
   ]
  },
  {
   "cell_type": "code",
   "execution_count": 183,
   "id": "eff085f2-230f-4751-b0b8-4d71b6056407",
   "metadata": {},
   "outputs": [
    {
     "name": "stdout",
     "output_type": "stream",
     "text": [
      "Имя        1\n",
      "Возраст    1\n",
      "Город      0\n",
      "dtype: int64\n"
     ]
    }
   ],
   "source": [
    "print(df.isna().sum())"
   ]
  },
  {
   "cell_type": "code",
   "execution_count": 185,
   "id": "0b881dcc-6755-4a5a-bdd6-3dd9d9d3ff04",
   "metadata": {},
   "outputs": [
    {
     "name": "stdout",
     "output_type": "stream",
     "text": [
      "     Имя  Возраст  Зарплата\n",
      "0   Анна       25     50000\n",
      "1   Иван       30     60000\n",
      "2  Ольга       22     45000\n",
      "3   Петр       40     70000\n",
      "4  Мария       35     65000\n"
     ]
    }
   ],
   "source": [
    "import pandas as pd\n",
    "data = {\n",
    "\"Имя\": [\"Анна\", \"Иван\", \"Ольга\", \"Петр\", \"Мария\"],\n",
    "\"Возраст\": [25, 30, 22, 40, 35],\n",
    "\"Зарплата\": [50000, 60000, 45000, 70000, 65000]\n",
    "}\n",
    "df = pd.DataFrame(data)\n",
    "print(df)"
   ]
  },
  {
   "cell_type": "code",
   "execution_count": 187,
   "id": "6a4e8ba9-e22a-4655-ba5d-76d287dc2eaa",
   "metadata": {},
   "outputs": [
    {
     "name": "stdout",
     "output_type": "stream",
     "text": [
      "     Имя  Возраст  Зарплата\n",
      "2  Ольга       22     45000\n",
      "0   Анна       25     50000\n",
      "1   Иван       30     60000\n",
      "4  Мария       35     65000\n",
      "3   Петр       40     70000\n"
     ]
    }
   ],
   "source": [
    "df_sorted = df.sort_values(by=\"Возраст\")\n",
    "print(df_sorted)"
   ]
  },
  {
   "cell_type": "code",
   "execution_count": 189,
   "id": "1b2697fe-6f77-49fb-84cb-a77f90b50b69",
   "metadata": {},
   "outputs": [
    {
     "name": "stdout",
     "output_type": "stream",
     "text": [
      "     Имя  Возраст  Зарплата\n",
      "3   Петр       40     70000\n",
      "4  Мария       35     65000\n",
      "1   Иван       30     60000\n",
      "0   Анна       25     50000\n",
      "2  Ольга       22     45000\n"
     ]
    }
   ],
   "source": [
    "df_sorted = df.sort_values(by=\"Возраст\", ascending=False)\n",
    "print(df_sorted)"
   ]
  },
  {
   "cell_type": "code",
   "execution_count": 193,
   "id": "f0083391-9c7e-4937-9b3f-eb2748cf266c",
   "metadata": {},
   "outputs": [
    {
     "name": "stdout",
     "output_type": "stream",
     "text": [
      "     Имя Возраст  Зарплата\n",
      "5  Елена    None     55000\n",
      "2  Ольга      22     45000\n",
      "0   Анна      25     50000\n",
      "1   Иван      30     60000\n",
      "4  Мария      35     65000\n",
      "3   Петр      40     70000\n"
     ]
    }
   ],
   "source": [
    "df.loc[5] = [\"Елена\", None, 55000] # Добавляем строку с NaN в\n",
    "\"Возраст\"\n",
    "df_sorted = df.sort_values(by=\"Возраст\", na_position=\"first\")\n",
    "print(df_sorted)"
   ]
  },
  {
   "cell_type": "code",
   "execution_count": 195,
   "id": "52680c2f-9b2a-4293-9ebc-13e5e30f0fe0",
   "metadata": {},
   "outputs": [
    {
     "name": "stdout",
     "output_type": "stream",
     "text": [
      "     Имя Возраст  Зарплата\n",
      "0   Анна      25     50000\n",
      "1   Иван      30     60000\n",
      "2  Ольга      22     45000\n",
      "3   Петр      40     70000\n",
      "4  Мария      35     65000\n",
      "5  Елена    None     55000\n"
     ]
    }
   ],
   "source": [
    "df_sorted = df.sort_index()\n",
    "print(df_sorted)"
   ]
  },
  {
   "cell_type": "code",
   "execution_count": 197,
   "id": "aebec921-ff8a-48d0-9a25-3310381f2625",
   "metadata": {},
   "outputs": [
    {
     "name": "stdout",
     "output_type": "stream",
     "text": [
      "     Имя Возраст  Зарплата\n",
      "5  Елена    None     55000\n",
      "4  Мария      35     65000\n",
      "3   Петр      40     70000\n",
      "2  Ольга      22     45000\n",
      "1   Иван      30     60000\n",
      "0   Анна      25     50000\n"
     ]
    }
   ],
   "source": [
    "df_sorted = df.sort_index(ascending=False)\n",
    "print(df_sorted)"
   ]
  },
  {
   "cell_type": "code",
   "execution_count": 199,
   "id": "5523b2e8-5003-449f-a673-d2d25f6dc13a",
   "metadata": {},
   "outputs": [
    {
     "name": "stdout",
     "output_type": "stream",
     "text": [
      "     Имя  Возраст   Город\n",
      "0   Анна       25  Москва\n",
      "1   Иван       30     СПб\n",
      "2  Ольга       22  Казань\n"
     ]
    }
   ],
   "source": [
    "df = pd.DataFrame({\n",
    "\"Имя\": [\"Анна\", \"Иван\", \"Ольга\"],\n",
    "\"Возраст\": [25, 30, 22],\n",
    "\"Город\": [\"Москва\", \"СПб\", \"Казань\"]\n",
    "})\n",
    "print(df)"
   ]
  },
  {
   "cell_type": "code",
   "execution_count": 201,
   "id": "ae3a14ba-c803-471a-8e94-6fb735f02957",
   "metadata": {},
   "outputs": [
    {
     "data": {
      "text/html": [
       "<div>\n",
       "<style scoped>\n",
       "    .dataframe tbody tr th:only-of-type {\n",
       "        vertical-align: middle;\n",
       "    }\n",
       "\n",
       "    .dataframe tbody tr th {\n",
       "        vertical-align: top;\n",
       "    }\n",
       "\n",
       "    .dataframe thead th {\n",
       "        text-align: right;\n",
       "    }\n",
       "</style>\n",
       "<table border=\"1\" class=\"dataframe\">\n",
       "  <thead>\n",
       "    <tr style=\"text-align: right;\">\n",
       "      <th></th>\n",
       "      <th>Имя</th>\n",
       "      <th>Возраст</th>\n",
       "      <th>Город</th>\n",
       "    </tr>\n",
       "  </thead>\n",
       "  <tbody>\n",
       "    <tr>\n",
       "      <th>0</th>\n",
       "      <td>Анна</td>\n",
       "      <td>25</td>\n",
       "      <td>Москва</td>\n",
       "    </tr>\n",
       "    <tr>\n",
       "      <th>1</th>\n",
       "      <td>Иван</td>\n",
       "      <td>30</td>\n",
       "      <td>СПб</td>\n",
       "    </tr>\n",
       "    <tr>\n",
       "      <th>2</th>\n",
       "      <td>Ольга</td>\n",
       "      <td>22</td>\n",
       "      <td>Казань</td>\n",
       "    </tr>\n",
       "  </tbody>\n",
       "</table>\n",
       "</div>"
      ],
      "text/plain": [
       "     Имя  Возраст   Город\n",
       "0   Анна       25  Москва\n",
       "1   Иван       30     СПб\n",
       "2  Ольга       22  Казань"
      ]
     },
     "metadata": {},
     "output_type": "display_data"
    }
   ],
   "source": [
    "from IPython.display import display\n",
    "display(df)"
   ]
  },
  {
   "cell_type": "code",
   "execution_count": 203,
   "id": "79ad5c4a-7224-4b3d-87d1-eb4cf2ced2e2",
   "metadata": {},
   "outputs": [
    {
     "data": {
      "text/html": [
       "<div>\n",
       "<style scoped>\n",
       "    .dataframe tbody tr th:only-of-type {\n",
       "        vertical-align: middle;\n",
       "    }\n",
       "\n",
       "    .dataframe tbody tr th {\n",
       "        vertical-align: top;\n",
       "    }\n",
       "\n",
       "    .dataframe thead th {\n",
       "        text-align: right;\n",
       "    }\n",
       "</style>\n",
       "<table border=\"1\" class=\"dataframe\">\n",
       "  <thead>\n",
       "    <tr style=\"text-align: right;\">\n",
       "      <th></th>\n",
       "      <th>Имя</th>\n",
       "      <th>Возраст</th>\n",
       "      <th>Город</th>\n",
       "    </tr>\n",
       "  </thead>\n",
       "  <tbody>\n",
       "    <tr>\n",
       "      <th>0</th>\n",
       "      <td>Анна</td>\n",
       "      <td>25</td>\n",
       "      <td>Москва</td>\n",
       "    </tr>\n",
       "    <tr>\n",
       "      <th>1</th>\n",
       "      <td>Иван</td>\n",
       "      <td>30</td>\n",
       "      <td>СПб</td>\n",
       "    </tr>\n",
       "    <tr>\n",
       "      <th>2</th>\n",
       "      <td>Ольга</td>\n",
       "      <td>22</td>\n",
       "      <td>Казань</td>\n",
       "    </tr>\n",
       "  </tbody>\n",
       "</table>\n",
       "</div>"
      ],
      "text/plain": [
       "     Имя  Возраст   Город\n",
       "0   Анна       25  Москва\n",
       "1   Иван       30     СПб\n",
       "2  Ольга       22  Казань"
      ]
     },
     "execution_count": 203,
     "metadata": {},
     "output_type": "execute_result"
    }
   ],
   "source": [
    "df.head(5) # Выведет первые 5 строк"
   ]
  },
  {
   "cell_type": "code",
   "execution_count": 205,
   "id": "fec446cb-c854-46b9-aaeb-fec2c8cdf1ff",
   "metadata": {},
   "outputs": [
    {
     "data": {
      "text/html": [
       "<div>\n",
       "<style scoped>\n",
       "    .dataframe tbody tr th:only-of-type {\n",
       "        vertical-align: middle;\n",
       "    }\n",
       "\n",
       "    .dataframe tbody tr th {\n",
       "        vertical-align: top;\n",
       "    }\n",
       "\n",
       "    .dataframe thead th {\n",
       "        text-align: right;\n",
       "    }\n",
       "</style>\n",
       "<table border=\"1\" class=\"dataframe\">\n",
       "  <thead>\n",
       "    <tr style=\"text-align: right;\">\n",
       "      <th></th>\n",
       "      <th>Имя</th>\n",
       "      <th>Возраст</th>\n",
       "      <th>Город</th>\n",
       "    </tr>\n",
       "  </thead>\n",
       "  <tbody>\n",
       "    <tr>\n",
       "      <th>0</th>\n",
       "      <td>Анна</td>\n",
       "      <td>25</td>\n",
       "      <td>Москва</td>\n",
       "    </tr>\n",
       "    <tr>\n",
       "      <th>1</th>\n",
       "      <td>Иван</td>\n",
       "      <td>30</td>\n",
       "      <td>СПб</td>\n",
       "    </tr>\n",
       "    <tr>\n",
       "      <th>2</th>\n",
       "      <td>Ольга</td>\n",
       "      <td>22</td>\n",
       "      <td>Казань</td>\n",
       "    </tr>\n",
       "  </tbody>\n",
       "</table>\n",
       "</div>"
      ],
      "text/plain": [
       "     Имя  Возраст   Город\n",
       "0   Анна       25  Москва\n",
       "1   Иван       30     СПб\n",
       "2  Ольга       22  Казань"
      ]
     },
     "execution_count": 205,
     "metadata": {},
     "output_type": "execute_result"
    }
   ],
   "source": [
    "df.tail(3) # Выведет последние 3 строки"
   ]
  },
  {
   "cell_type": "code",
   "execution_count": 207,
   "id": "b42f09bf-42dd-4c70-955b-0705e0fbbbe6",
   "metadata": {},
   "outputs": [],
   "source": [
    "pd.set_option(\"display.max_rows\", 100) # Показывать до 100 строк"
   ]
  },
  {
   "cell_type": "code",
   "execution_count": 209,
   "id": "92cc54ed-47cc-4a90-9611-301ea665e0c9",
   "metadata": {},
   "outputs": [],
   "source": [
    "pd.set_option(\"display.max_columns\", 50) # Показывать до 50 столбцов"
   ]
  },
  {
   "cell_type": "code",
   "execution_count": 211,
   "id": "f96a31c5-a483-48ff-b658-4c10d6b2b10a",
   "metadata": {},
   "outputs": [],
   "source": [
    "pd.set_option(\"display.max_colwidth\", None)"
   ]
  },
  {
   "cell_type": "code",
   "execution_count": 213,
   "id": "557495f1-557b-4b30-970b-078cb0b4aa8e",
   "metadata": {},
   "outputs": [],
   "source": [
    "pd.set_option(\"display.float_format\", \"{:.2f}\".format)"
   ]
  },
  {
   "cell_type": "code",
   "execution_count": 215,
   "id": "b1eec1dc-3c60-4fbd-8183-d975c8b21661",
   "metadata": {},
   "outputs": [
    {
     "data": {
      "text/html": [
       "<style type=\"text/css\">\n",
       "#T_bea81 thead tr th:nth-child(1) {\n",
       "  position: sticky;\n",
       "  background-color: inherit;\n",
       "  left: 0px;\n",
       "  z-index: 3 !important;\n",
       "}\n",
       "#T_bea81 tbody tr th:nth-child(1) {\n",
       "  position: sticky;\n",
       "  background-color: inherit;\n",
       "  left: 0px;\n",
       "  z-index: 1;\n",
       "}\n",
       "</style>\n",
       "<table id=\"T_bea81\">\n",
       "  <thead>\n",
       "    <tr>\n",
       "      <th class=\"blank level0\" >&nbsp;</th>\n",
       "      <th id=\"T_bea81_level0_col0\" class=\"col_heading level0 col0\" >Имя</th>\n",
       "      <th id=\"T_bea81_level0_col1\" class=\"col_heading level0 col1\" >Возраст</th>\n",
       "      <th id=\"T_bea81_level0_col2\" class=\"col_heading level0 col2\" >Город</th>\n",
       "    </tr>\n",
       "  </thead>\n",
       "  <tbody>\n",
       "    <tr>\n",
       "      <th id=\"T_bea81_level0_row0\" class=\"row_heading level0 row0\" >0</th>\n",
       "      <td id=\"T_bea81_row0_col0\" class=\"data row0 col0\" >Анна</td>\n",
       "      <td id=\"T_bea81_row0_col1\" class=\"data row0 col1\" >25</td>\n",
       "      <td id=\"T_bea81_row0_col2\" class=\"data row0 col2\" >Москва</td>\n",
       "    </tr>\n",
       "    <tr>\n",
       "      <th id=\"T_bea81_level0_row1\" class=\"row_heading level0 row1\" >1</th>\n",
       "      <td id=\"T_bea81_row1_col0\" class=\"data row1 col0\" >Иван</td>\n",
       "      <td id=\"T_bea81_row1_col1\" class=\"data row1 col1\" >30</td>\n",
       "      <td id=\"T_bea81_row1_col2\" class=\"data row1 col2\" >СПб</td>\n",
       "    </tr>\n",
       "    <tr>\n",
       "      <th id=\"T_bea81_level0_row2\" class=\"row_heading level0 row2\" >2</th>\n",
       "      <td id=\"T_bea81_row2_col0\" class=\"data row2 col0\" >Ольга</td>\n",
       "      <td id=\"T_bea81_row2_col1\" class=\"data row2 col1\" >22</td>\n",
       "      <td id=\"T_bea81_row2_col2\" class=\"data row2 col2\" >Казань</td>\n",
       "    </tr>\n",
       "  </tbody>\n",
       "</table>\n"
      ],
      "text/plain": [
       "<pandas.io.formats.style.Styler at 0x1d5e85ff260>"
      ]
     },
     "execution_count": 215,
     "metadata": {},
     "output_type": "execute_result"
    }
   ],
   "source": [
    "df.style.set_sticky()"
   ]
  },
  {
   "cell_type": "code",
   "execution_count": 217,
   "id": "dfe2d4d5-dded-46c8-a40d-bc9d2da4ef84",
   "metadata": {},
   "outputs": [
    {
     "name": "stdout",
     "output_type": "stream",
     "text": [
      "Collecting qgrid\n",
      "  Downloading qgrid-1.3.1.tar.gz (889 kB)\n",
      "     ---------------------------------------- 0.0/889.2 kB ? eta -:--:--\n",
      "     ----------- ---------------------------- 262.1/889.2 kB ? eta -:--:--\n",
      "     --------------------------------- ---- 786.4/889.2 kB 3.4 MB/s eta 0:00:01\n",
      "     -------------------------------------- 889.2/889.2 kB 1.7 MB/s eta 0:00:00\n",
      "  Preparing metadata (setup.py): started\n",
      "  Preparing metadata (setup.py): finished with status 'done'\n",
      "Requirement already satisfied: notebook>=4.0.0 in c:\\users\\hesko\\anaconda3\\lib\\site-packages (from qgrid) (7.2.2)\n",
      "Requirement already satisfied: pandas>=0.18.0 in c:\\users\\hesko\\anaconda3\\lib\\site-packages (from qgrid) (2.2.2)\n",
      "Requirement already satisfied: ipywidgets>=7.0.0 in c:\\users\\hesko\\anaconda3\\lib\\site-packages (from qgrid) (7.8.1)\n",
      "Requirement already satisfied: comm>=0.1.3 in c:\\users\\hesko\\anaconda3\\lib\\site-packages (from ipywidgets>=7.0.0->qgrid) (0.2.1)\n",
      "Requirement already satisfied: ipython-genutils~=0.2.0 in c:\\users\\hesko\\anaconda3\\lib\\site-packages (from ipywidgets>=7.0.0->qgrid) (0.2.0)\n",
      "Requirement already satisfied: traitlets>=4.3.1 in c:\\users\\hesko\\anaconda3\\lib\\site-packages (from ipywidgets>=7.0.0->qgrid) (5.14.3)\n",
      "Requirement already satisfied: widgetsnbextension~=3.6.6 in c:\\users\\hesko\\anaconda3\\lib\\site-packages (from ipywidgets>=7.0.0->qgrid) (3.6.6)\n",
      "Requirement already satisfied: ipython>=4.0.0 in c:\\users\\hesko\\anaconda3\\lib\\site-packages (from ipywidgets>=7.0.0->qgrid) (8.27.0)\n",
      "Requirement already satisfied: jupyterlab-widgets<3,>=1.0.0 in c:\\users\\hesko\\anaconda3\\lib\\site-packages (from ipywidgets>=7.0.0->qgrid) (1.0.0)\n",
      "Requirement already satisfied: jupyter-server<3,>=2.4.0 in c:\\users\\hesko\\anaconda3\\lib\\site-packages (from notebook>=4.0.0->qgrid) (2.14.1)\n",
      "Requirement already satisfied: jupyterlab-server<3,>=2.27.1 in c:\\users\\hesko\\anaconda3\\lib\\site-packages (from notebook>=4.0.0->qgrid) (2.27.3)\n",
      "Requirement already satisfied: jupyterlab<4.3,>=4.2.0 in c:\\users\\hesko\\anaconda3\\lib\\site-packages (from notebook>=4.0.0->qgrid) (4.2.5)\n",
      "Requirement already satisfied: notebook-shim<0.3,>=0.2 in c:\\users\\hesko\\anaconda3\\lib\\site-packages (from notebook>=4.0.0->qgrid) (0.2.3)\n",
      "Requirement already satisfied: tornado>=6.2.0 in c:\\users\\hesko\\anaconda3\\lib\\site-packages (from notebook>=4.0.0->qgrid) (6.4.1)\n",
      "Requirement already satisfied: numpy>=1.26.0 in c:\\users\\hesko\\anaconda3\\lib\\site-packages (from pandas>=0.18.0->qgrid) (1.26.4)\n",
      "Requirement already satisfied: python-dateutil>=2.8.2 in c:\\users\\hesko\\anaconda3\\lib\\site-packages (from pandas>=0.18.0->qgrid) (2.9.0.post0)\n",
      "Requirement already satisfied: pytz>=2020.1 in c:\\users\\hesko\\anaconda3\\lib\\site-packages (from pandas>=0.18.0->qgrid) (2024.1)\n",
      "Requirement already satisfied: tzdata>=2022.7 in c:\\users\\hesko\\anaconda3\\lib\\site-packages (from pandas>=0.18.0->qgrid) (2023.3)\n",
      "Requirement already satisfied: decorator in c:\\users\\hesko\\anaconda3\\lib\\site-packages (from ipython>=4.0.0->ipywidgets>=7.0.0->qgrid) (5.1.1)\n",
      "Requirement already satisfied: jedi>=0.16 in c:\\users\\hesko\\anaconda3\\lib\\site-packages (from ipython>=4.0.0->ipywidgets>=7.0.0->qgrid) (0.19.1)\n",
      "Requirement already satisfied: matplotlib-inline in c:\\users\\hesko\\anaconda3\\lib\\site-packages (from ipython>=4.0.0->ipywidgets>=7.0.0->qgrid) (0.1.6)\n",
      "Requirement already satisfied: prompt-toolkit<3.1.0,>=3.0.41 in c:\\users\\hesko\\anaconda3\\lib\\site-packages (from ipython>=4.0.0->ipywidgets>=7.0.0->qgrid) (3.0.43)\n",
      "Requirement already satisfied: pygments>=2.4.0 in c:\\users\\hesko\\anaconda3\\lib\\site-packages (from ipython>=4.0.0->ipywidgets>=7.0.0->qgrid) (2.15.1)\n",
      "Requirement already satisfied: stack-data in c:\\users\\hesko\\anaconda3\\lib\\site-packages (from ipython>=4.0.0->ipywidgets>=7.0.0->qgrid) (0.2.0)\n",
      "Requirement already satisfied: colorama in c:\\users\\hesko\\anaconda3\\lib\\site-packages (from ipython>=4.0.0->ipywidgets>=7.0.0->qgrid) (0.4.6)\n",
      "Requirement already satisfied: anyio>=3.1.0 in c:\\users\\hesko\\anaconda3\\lib\\site-packages (from jupyter-server<3,>=2.4.0->notebook>=4.0.0->qgrid) (4.2.0)\n",
      "Requirement already satisfied: argon2-cffi>=21.1 in c:\\users\\hesko\\anaconda3\\lib\\site-packages (from jupyter-server<3,>=2.4.0->notebook>=4.0.0->qgrid) (21.3.0)\n",
      "Requirement already satisfied: jinja2>=3.0.3 in c:\\users\\hesko\\anaconda3\\lib\\site-packages (from jupyter-server<3,>=2.4.0->notebook>=4.0.0->qgrid) (3.1.4)\n",
      "Requirement already satisfied: jupyter-client>=7.4.4 in c:\\users\\hesko\\anaconda3\\lib\\site-packages (from jupyter-server<3,>=2.4.0->notebook>=4.0.0->qgrid) (8.6.0)\n",
      "Requirement already satisfied: jupyter-core!=5.0.*,>=4.12 in c:\\users\\hesko\\anaconda3\\lib\\site-packages (from jupyter-server<3,>=2.4.0->notebook>=4.0.0->qgrid) (5.7.2)\n",
      "Requirement already satisfied: jupyter-events>=0.9.0 in c:\\users\\hesko\\anaconda3\\lib\\site-packages (from jupyter-server<3,>=2.4.0->notebook>=4.0.0->qgrid) (0.10.0)\n",
      "Requirement already satisfied: jupyter-server-terminals>=0.4.4 in c:\\users\\hesko\\anaconda3\\lib\\site-packages (from jupyter-server<3,>=2.4.0->notebook>=4.0.0->qgrid) (0.4.4)\n",
      "Requirement already satisfied: nbconvert>=6.4.4 in c:\\users\\hesko\\anaconda3\\lib\\site-packages (from jupyter-server<3,>=2.4.0->notebook>=4.0.0->qgrid) (7.16.4)\n",
      "Requirement already satisfied: nbformat>=5.3.0 in c:\\users\\hesko\\anaconda3\\lib\\site-packages (from jupyter-server<3,>=2.4.0->notebook>=4.0.0->qgrid) (5.10.4)\n",
      "Requirement already satisfied: overrides>=5.0 in c:\\users\\hesko\\anaconda3\\lib\\site-packages (from jupyter-server<3,>=2.4.0->notebook>=4.0.0->qgrid) (7.4.0)\n",
      "Requirement already satisfied: packaging>=22.0 in c:\\users\\hesko\\anaconda3\\lib\\site-packages (from jupyter-server<3,>=2.4.0->notebook>=4.0.0->qgrid) (24.1)\n",
      "Requirement already satisfied: prometheus-client>=0.9 in c:\\users\\hesko\\anaconda3\\lib\\site-packages (from jupyter-server<3,>=2.4.0->notebook>=4.0.0->qgrid) (0.14.1)\n",
      "Requirement already satisfied: pywinpty>=2.0.1 in c:\\users\\hesko\\anaconda3\\lib\\site-packages (from jupyter-server<3,>=2.4.0->notebook>=4.0.0->qgrid) (2.0.10)\n",
      "Requirement already satisfied: pyzmq>=24 in c:\\users\\hesko\\anaconda3\\lib\\site-packages (from jupyter-server<3,>=2.4.0->notebook>=4.0.0->qgrid) (25.1.2)\n",
      "Requirement already satisfied: send2trash>=1.8.2 in c:\\users\\hesko\\anaconda3\\lib\\site-packages (from jupyter-server<3,>=2.4.0->notebook>=4.0.0->qgrid) (1.8.2)\n",
      "Requirement already satisfied: terminado>=0.8.3 in c:\\users\\hesko\\anaconda3\\lib\\site-packages (from jupyter-server<3,>=2.4.0->notebook>=4.0.0->qgrid) (0.17.1)\n",
      "Requirement already satisfied: websocket-client>=1.7 in c:\\users\\hesko\\anaconda3\\lib\\site-packages (from jupyter-server<3,>=2.4.0->notebook>=4.0.0->qgrid) (1.8.0)\n",
      "Requirement already satisfied: async-lru>=1.0.0 in c:\\users\\hesko\\anaconda3\\lib\\site-packages (from jupyterlab<4.3,>=4.2.0->notebook>=4.0.0->qgrid) (2.0.4)\n",
      "Requirement already satisfied: httpx>=0.25.0 in c:\\users\\hesko\\anaconda3\\lib\\site-packages (from jupyterlab<4.3,>=4.2.0->notebook>=4.0.0->qgrid) (0.27.0)\n",
      "Requirement already satisfied: ipykernel>=6.5.0 in c:\\users\\hesko\\anaconda3\\lib\\site-packages (from jupyterlab<4.3,>=4.2.0->notebook>=4.0.0->qgrid) (6.28.0)\n",
      "Requirement already satisfied: jupyter-lsp>=2.0.0 in c:\\users\\hesko\\anaconda3\\lib\\site-packages (from jupyterlab<4.3,>=4.2.0->notebook>=4.0.0->qgrid) (2.2.0)\n",
      "Requirement already satisfied: setuptools>=40.1.0 in c:\\users\\hesko\\anaconda3\\lib\\site-packages (from jupyterlab<4.3,>=4.2.0->notebook>=4.0.0->qgrid) (75.1.0)\n",
      "Requirement already satisfied: babel>=2.10 in c:\\users\\hesko\\anaconda3\\lib\\site-packages (from jupyterlab-server<3,>=2.27.1->notebook>=4.0.0->qgrid) (2.11.0)\n",
      "Requirement already satisfied: json5>=0.9.0 in c:\\users\\hesko\\anaconda3\\lib\\site-packages (from jupyterlab-server<3,>=2.27.1->notebook>=4.0.0->qgrid) (0.9.6)\n",
      "Requirement already satisfied: jsonschema>=4.18.0 in c:\\users\\hesko\\anaconda3\\lib\\site-packages (from jupyterlab-server<3,>=2.27.1->notebook>=4.0.0->qgrid) (4.23.0)\n",
      "Requirement already satisfied: requests>=2.31 in c:\\users\\hesko\\anaconda3\\lib\\site-packages (from jupyterlab-server<3,>=2.27.1->notebook>=4.0.0->qgrid) (2.32.3)\n",
      "Requirement already satisfied: six>=1.5 in c:\\users\\hesko\\anaconda3\\lib\\site-packages (from python-dateutil>=2.8.2->pandas>=0.18.0->qgrid) (1.16.0)\n",
      "Requirement already satisfied: idna>=2.8 in c:\\users\\hesko\\anaconda3\\lib\\site-packages (from anyio>=3.1.0->jupyter-server<3,>=2.4.0->notebook>=4.0.0->qgrid) (3.7)\n",
      "Requirement already satisfied: sniffio>=1.1 in c:\\users\\hesko\\anaconda3\\lib\\site-packages (from anyio>=3.1.0->jupyter-server<3,>=2.4.0->notebook>=4.0.0->qgrid) (1.3.0)\n",
      "Requirement already satisfied: argon2-cffi-bindings in c:\\users\\hesko\\anaconda3\\lib\\site-packages (from argon2-cffi>=21.1->jupyter-server<3,>=2.4.0->notebook>=4.0.0->qgrid) (21.2.0)\n",
      "Requirement already satisfied: certifi in c:\\users\\hesko\\anaconda3\\lib\\site-packages (from httpx>=0.25.0->jupyterlab<4.3,>=4.2.0->notebook>=4.0.0->qgrid) (2025.1.31)\n",
      "Requirement already satisfied: httpcore==1.* in c:\\users\\hesko\\anaconda3\\lib\\site-packages (from httpx>=0.25.0->jupyterlab<4.3,>=4.2.0->notebook>=4.0.0->qgrid) (1.0.2)\n",
      "Requirement already satisfied: h11<0.15,>=0.13 in c:\\users\\hesko\\anaconda3\\lib\\site-packages (from httpcore==1.*->httpx>=0.25.0->jupyterlab<4.3,>=4.2.0->notebook>=4.0.0->qgrid) (0.14.0)\n",
      "Requirement already satisfied: debugpy>=1.6.5 in c:\\users\\hesko\\anaconda3\\lib\\site-packages (from ipykernel>=6.5.0->jupyterlab<4.3,>=4.2.0->notebook>=4.0.0->qgrid) (1.6.7)\n",
      "Requirement already satisfied: nest-asyncio in c:\\users\\hesko\\anaconda3\\lib\\site-packages (from ipykernel>=6.5.0->jupyterlab<4.3,>=4.2.0->notebook>=4.0.0->qgrid) (1.6.0)\n",
      "Requirement already satisfied: psutil in c:\\users\\hesko\\anaconda3\\lib\\site-packages (from ipykernel>=6.5.0->jupyterlab<4.3,>=4.2.0->notebook>=4.0.0->qgrid) (5.9.0)\n",
      "Requirement already satisfied: parso<0.9.0,>=0.8.3 in c:\\users\\hesko\\anaconda3\\lib\\site-packages (from jedi>=0.16->ipython>=4.0.0->ipywidgets>=7.0.0->qgrid) (0.8.3)\n",
      "Requirement already satisfied: MarkupSafe>=2.0 in c:\\users\\hesko\\anaconda3\\lib\\site-packages (from jinja2>=3.0.3->jupyter-server<3,>=2.4.0->notebook>=4.0.0->qgrid) (2.1.3)\n",
      "Requirement already satisfied: attrs>=22.2.0 in c:\\users\\hesko\\anaconda3\\lib\\site-packages (from jsonschema>=4.18.0->jupyterlab-server<3,>=2.27.1->notebook>=4.0.0->qgrid) (23.1.0)\n",
      "Requirement already satisfied: jsonschema-specifications>=2023.03.6 in c:\\users\\hesko\\anaconda3\\lib\\site-packages (from jsonschema>=4.18.0->jupyterlab-server<3,>=2.27.1->notebook>=4.0.0->qgrid) (2023.7.1)\n",
      "Requirement already satisfied: referencing>=0.28.4 in c:\\users\\hesko\\anaconda3\\lib\\site-packages (from jsonschema>=4.18.0->jupyterlab-server<3,>=2.27.1->notebook>=4.0.0->qgrid) (0.30.2)\n",
      "Requirement already satisfied: rpds-py>=0.7.1 in c:\\users\\hesko\\anaconda3\\lib\\site-packages (from jsonschema>=4.18.0->jupyterlab-server<3,>=2.27.1->notebook>=4.0.0->qgrid) (0.10.6)\n",
      "Requirement already satisfied: platformdirs>=2.5 in c:\\users\\hesko\\anaconda3\\lib\\site-packages (from jupyter-core!=5.0.*,>=4.12->jupyter-server<3,>=2.4.0->notebook>=4.0.0->qgrid) (3.10.0)\n",
      "Requirement already satisfied: pywin32>=300 in c:\\users\\hesko\\anaconda3\\lib\\site-packages (from jupyter-core!=5.0.*,>=4.12->jupyter-server<3,>=2.4.0->notebook>=4.0.0->qgrid) (305.1)\n",
      "Requirement already satisfied: python-json-logger>=2.0.4 in c:\\users\\hesko\\anaconda3\\lib\\site-packages (from jupyter-events>=0.9.0->jupyter-server<3,>=2.4.0->notebook>=4.0.0->qgrid) (2.0.7)\n",
      "Requirement already satisfied: pyyaml>=5.3 in c:\\users\\hesko\\anaconda3\\lib\\site-packages (from jupyter-events>=0.9.0->jupyter-server<3,>=2.4.0->notebook>=4.0.0->qgrid) (6.0.1)\n",
      "Requirement already satisfied: rfc3339-validator in c:\\users\\hesko\\anaconda3\\lib\\site-packages (from jupyter-events>=0.9.0->jupyter-server<3,>=2.4.0->notebook>=4.0.0->qgrid) (0.1.4)\n",
      "Requirement already satisfied: rfc3986-validator>=0.1.1 in c:\\users\\hesko\\anaconda3\\lib\\site-packages (from jupyter-events>=0.9.0->jupyter-server<3,>=2.4.0->notebook>=4.0.0->qgrid) (0.1.1)\n",
      "Requirement already satisfied: beautifulsoup4 in c:\\users\\hesko\\anaconda3\\lib\\site-packages (from nbconvert>=6.4.4->jupyter-server<3,>=2.4.0->notebook>=4.0.0->qgrid) (4.12.3)\n",
      "Requirement already satisfied: bleach!=5.0.0 in c:\\users\\hesko\\anaconda3\\lib\\site-packages (from nbconvert>=6.4.4->jupyter-server<3,>=2.4.0->notebook>=4.0.0->qgrid) (4.1.0)\n",
      "Requirement already satisfied: defusedxml in c:\\users\\hesko\\anaconda3\\lib\\site-packages (from nbconvert>=6.4.4->jupyter-server<3,>=2.4.0->notebook>=4.0.0->qgrid) (0.7.1)\n",
      "Requirement already satisfied: jupyterlab-pygments in c:\\users\\hesko\\anaconda3\\lib\\site-packages (from nbconvert>=6.4.4->jupyter-server<3,>=2.4.0->notebook>=4.0.0->qgrid) (0.1.2)\n",
      "Requirement already satisfied: mistune<4,>=2.0.3 in c:\\users\\hesko\\anaconda3\\lib\\site-packages (from nbconvert>=6.4.4->jupyter-server<3,>=2.4.0->notebook>=4.0.0->qgrid) (2.0.4)\n",
      "Requirement already satisfied: nbclient>=0.5.0 in c:\\users\\hesko\\anaconda3\\lib\\site-packages (from nbconvert>=6.4.4->jupyter-server<3,>=2.4.0->notebook>=4.0.0->qgrid) (0.8.0)\n",
      "Requirement already satisfied: pandocfilters>=1.4.1 in c:\\users\\hesko\\anaconda3\\lib\\site-packages (from nbconvert>=6.4.4->jupyter-server<3,>=2.4.0->notebook>=4.0.0->qgrid) (1.5.0)\n",
      "Requirement already satisfied: tinycss2 in c:\\users\\hesko\\anaconda3\\lib\\site-packages (from nbconvert>=6.4.4->jupyter-server<3,>=2.4.0->notebook>=4.0.0->qgrid) (1.2.1)\n",
      "Requirement already satisfied: fastjsonschema>=2.15 in c:\\users\\hesko\\anaconda3\\lib\\site-packages (from nbformat>=5.3.0->jupyter-server<3,>=2.4.0->notebook>=4.0.0->qgrid) (2.16.2)\n",
      "Requirement already satisfied: wcwidth in c:\\users\\hesko\\anaconda3\\lib\\site-packages (from prompt-toolkit<3.1.0,>=3.0.41->ipython>=4.0.0->ipywidgets>=7.0.0->qgrid) (0.2.5)\n",
      "Requirement already satisfied: charset-normalizer<4,>=2 in c:\\users\\hesko\\anaconda3\\lib\\site-packages (from requests>=2.31->jupyterlab-server<3,>=2.27.1->notebook>=4.0.0->qgrid) (3.3.2)\n",
      "Requirement already satisfied: urllib3<3,>=1.21.1 in c:\\users\\hesko\\anaconda3\\lib\\site-packages (from requests>=2.31->jupyterlab-server<3,>=2.27.1->notebook>=4.0.0->qgrid) (2.2.3)\n",
      "Requirement already satisfied: executing in c:\\users\\hesko\\anaconda3\\lib\\site-packages (from stack-data->ipython>=4.0.0->ipywidgets>=7.0.0->qgrid) (0.8.3)\n",
      "Requirement already satisfied: asttokens in c:\\users\\hesko\\anaconda3\\lib\\site-packages (from stack-data->ipython>=4.0.0->ipywidgets>=7.0.0->qgrid) (2.0.5)\n",
      "Requirement already satisfied: pure-eval in c:\\users\\hesko\\anaconda3\\lib\\site-packages (from stack-data->ipython>=4.0.0->ipywidgets>=7.0.0->qgrid) (0.2.2)\n",
      "Requirement already satisfied: webencodings in c:\\users\\hesko\\anaconda3\\lib\\site-packages (from bleach!=5.0.0->nbconvert>=6.4.4->jupyter-server<3,>=2.4.0->notebook>=4.0.0->qgrid) (0.5.1)\n",
      "Collecting fqdn (from jsonschema[format-nongpl]>=4.18.0->jupyter-events>=0.9.0->jupyter-server<3,>=2.4.0->notebook>=4.0.0->qgrid)\n",
      "  Downloading fqdn-1.5.1-py3-none-any.whl.metadata (1.4 kB)\n",
      "Collecting isoduration (from jsonschema[format-nongpl]>=4.18.0->jupyter-events>=0.9.0->jupyter-server<3,>=2.4.0->notebook>=4.0.0->qgrid)\n",
      "  Downloading isoduration-20.11.0-py3-none-any.whl.metadata (5.7 kB)\n",
      "Requirement already satisfied: jsonpointer>1.13 in c:\\users\\hesko\\anaconda3\\lib\\site-packages (from jsonschema[format-nongpl]>=4.18.0->jupyter-events>=0.9.0->jupyter-server<3,>=2.4.0->notebook>=4.0.0->qgrid) (2.1)\n",
      "Collecting uri-template (from jsonschema[format-nongpl]>=4.18.0->jupyter-events>=0.9.0->jupyter-server<3,>=2.4.0->notebook>=4.0.0->qgrid)\n",
      "  Downloading uri_template-1.3.0-py3-none-any.whl.metadata (8.8 kB)\n",
      "Collecting webcolors>=24.6.0 (from jsonschema[format-nongpl]>=4.18.0->jupyter-events>=0.9.0->jupyter-server<3,>=2.4.0->notebook>=4.0.0->qgrid)\n",
      "  Downloading webcolors-24.11.1-py3-none-any.whl.metadata (2.2 kB)\n",
      "Requirement already satisfied: cffi>=1.0.1 in c:\\users\\hesko\\anaconda3\\lib\\site-packages (from argon2-cffi-bindings->argon2-cffi>=21.1->jupyter-server<3,>=2.4.0->notebook>=4.0.0->qgrid) (1.17.1)\n",
      "Requirement already satisfied: soupsieve>1.2 in c:\\users\\hesko\\anaconda3\\lib\\site-packages (from beautifulsoup4->nbconvert>=6.4.4->jupyter-server<3,>=2.4.0->notebook>=4.0.0->qgrid) (2.5)\n",
      "Requirement already satisfied: pycparser in c:\\users\\hesko\\anaconda3\\lib\\site-packages (from cffi>=1.0.1->argon2-cffi-bindings->argon2-cffi>=21.1->jupyter-server<3,>=2.4.0->notebook>=4.0.0->qgrid) (2.21)\n",
      "Requirement already satisfied: arrow>=0.15.0 in c:\\users\\hesko\\anaconda3\\lib\\site-packages (from isoduration->jsonschema[format-nongpl]>=4.18.0->jupyter-events>=0.9.0->jupyter-server<3,>=2.4.0->notebook>=4.0.0->qgrid) (1.2.3)\n",
      "Downloading webcolors-24.11.1-py3-none-any.whl (14 kB)\n",
      "Downloading fqdn-1.5.1-py3-none-any.whl (9.1 kB)\n",
      "Downloading isoduration-20.11.0-py3-none-any.whl (11 kB)\n",
      "Downloading uri_template-1.3.0-py3-none-any.whl (11 kB)\n",
      "Building wheels for collected packages: qgrid\n",
      "  Building wheel for qgrid (setup.py): started\n",
      "  Building wheel for qgrid (setup.py): finished with status 'done'\n",
      "  Created wheel for qgrid: filename=qgrid-1.3.1-py2.py3-none-any.whl size=1761261 sha256=aae1fd483c36a2bdfd300c6367847937b1afaeb1bdfcf8e6e25fe0cc8e1052b4\n",
      "  Stored in directory: c:\\users\\hesko\\appdata\\local\\pip\\cache\\wheels\\0a\\83\\df\\0bccd6bcfb1923fcca59ca6f7b04f6b8d19300faf1a4edcc02\n",
      "Successfully built qgrid\n",
      "Installing collected packages: webcolors, uri-template, fqdn, isoduration, qgrid\n",
      "Successfully installed fqdn-1.5.1 isoduration-20.11.0 qgrid-1.3.1 uri-template-1.3.0 webcolors-24.11.1\n",
      "Note: you may need to restart the kernel to use updated packages.\n"
     ]
    }
   ],
   "source": [
    "pip install qgrid"
   ]
  },
  {
   "cell_type": "code",
   "execution_count": 219,
   "id": "33f7c7c2-f4cf-4977-a713-239a289f5552",
   "metadata": {},
   "outputs": [
    {
     "data": {
      "application/vnd.jupyter.widget-view+json": {
       "model_id": "c980d3f02f6548daa246a7a29ce0c97e",
       "version_major": 2,
       "version_minor": 0
      },
      "text/plain": [
       "QgridWidget(grid_options={'fullWidthRows': True, 'syncColumnCellResize': True, 'forceFitColumns': True, 'defau…"
      ]
     },
     "metadata": {},
     "output_type": "display_data"
    }
   ],
   "source": [
    "import qgrid\n",
    "qgrid_widget = qgrid.show_grid(df, show_toolbar=True)\n",
    "qgrid_widget"
   ]
  },
  {
   "cell_type": "code",
   "execution_count": 221,
   "id": "350e0f74-a914-49a1-88b5-5d17adce8510",
   "metadata": {},
   "outputs": [
    {
     "name": "stdout",
     "output_type": "stream",
     "text": [
      "|    | Имя   |   Возраст | Город   |\n",
      "|----|-------|-----------|---------|\n",
      "|  0 | Анна  |        25 | Москва  |\n",
      "|  1 | Иван  |        30 | СПб     |\n",
      "|  2 | Ольга |        22 | Казань  |\n"
     ]
    }
   ],
   "source": [
    "from tabulate import tabulate\n",
    "print(tabulate(df, headers=\"keys\", tablefmt=\"github\"))"
   ]
  },
  {
   "cell_type": "code",
   "execution_count": 223,
   "id": "be6bceb4-0e9e-4078-aac6-d306283a430f",
   "metadata": {},
   "outputs": [
    {
     "data": {
      "text/html": [
       "<style type=\"text/css\">\n",
       "#T_f6003_row0_col0, #T_f6003_row0_col1, #T_f6003_row0_col2, #T_f6003_row1_col0, #T_f6003_row1_col1, #T_f6003_row1_col2, #T_f6003_row2_col0, #T_f6003_row2_col1, #T_f6003_row2_col2 {\n",
       "  background-color: lightgray;\n",
       "  color: black;\n",
       "}\n",
       "</style>\n",
       "<table id=\"T_f6003\">\n",
       "  <thead>\n",
       "    <tr>\n",
       "      <th class=\"blank level0\" >&nbsp;</th>\n",
       "      <th id=\"T_f6003_level0_col0\" class=\"col_heading level0 col0\" >Имя</th>\n",
       "      <th id=\"T_f6003_level0_col1\" class=\"col_heading level0 col1\" >Возраст</th>\n",
       "      <th id=\"T_f6003_level0_col2\" class=\"col_heading level0 col2\" >Город</th>\n",
       "    </tr>\n",
       "  </thead>\n",
       "  <tbody>\n",
       "    <tr>\n",
       "      <th id=\"T_f6003_level0_row0\" class=\"row_heading level0 row0\" >0</th>\n",
       "      <td id=\"T_f6003_row0_col0\" class=\"data row0 col0\" >Анна</td>\n",
       "      <td id=\"T_f6003_row0_col1\" class=\"data row0 col1\" >25</td>\n",
       "      <td id=\"T_f6003_row0_col2\" class=\"data row0 col2\" >Москва</td>\n",
       "    </tr>\n",
       "    <tr>\n",
       "      <th id=\"T_f6003_level0_row1\" class=\"row_heading level0 row1\" >1</th>\n",
       "      <td id=\"T_f6003_row1_col0\" class=\"data row1 col0\" >Иван</td>\n",
       "      <td id=\"T_f6003_row1_col1\" class=\"data row1 col1\" >30</td>\n",
       "      <td id=\"T_f6003_row1_col2\" class=\"data row1 col2\" >СПб</td>\n",
       "    </tr>\n",
       "    <tr>\n",
       "      <th id=\"T_f6003_level0_row2\" class=\"row_heading level0 row2\" >2</th>\n",
       "      <td id=\"T_f6003_row2_col0\" class=\"data row2 col0\" >Ольга</td>\n",
       "      <td id=\"T_f6003_row2_col1\" class=\"data row2 col1\" >22</td>\n",
       "      <td id=\"T_f6003_row2_col2\" class=\"data row2 col2\" >Казань</td>\n",
       "    </tr>\n",
       "  </tbody>\n",
       "</table>\n"
      ],
      "text/plain": [
       "<pandas.io.formats.style.Styler at 0x1d5e8ed8530>"
      ]
     },
     "execution_count": 223,
     "metadata": {},
     "output_type": "execute_result"
    }
   ],
   "source": [
    "df.style.set_properties(**{\"background-color\": \"lightgray\", \"color\": \"black\"})"
   ]
  },
  {
   "cell_type": "code",
   "execution_count": 227,
   "id": "8c926a4f-ab51-4889-8989-c551d8a21037",
   "metadata": {},
   "outputs": [],
   "source": [
    "html_table = df.to_html()\n",
    "with open(\"table.html\", \"w\", encoding=\"utf-8\") as f:\n",
    "    f.write(html_table)"
   ]
  },
  {
   "cell_type": "code",
   "execution_count": null,
   "id": "a8eba7a4-4ad7-418c-ad4b-9aea4723af16",
   "metadata": {},
   "outputs": [],
   "source": []
  }
 ],
 "metadata": {
  "kernelspec": {
   "display_name": "Python [conda env:base] *",
   "language": "python",
   "name": "conda-base-py"
  },
  "language_info": {
   "codemirror_mode": {
    "name": "ipython",
    "version": 3
   },
   "file_extension": ".py",
   "mimetype": "text/x-python",
   "name": "python",
   "nbconvert_exporter": "python",
   "pygments_lexer": "ipython3",
   "version": "3.12.7"
  }
 },
 "nbformat": 4,
 "nbformat_minor": 5
}
